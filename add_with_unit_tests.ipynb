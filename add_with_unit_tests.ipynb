{
  "nbformat": 4,
  "nbformat_minor": 0,
  "metadata": {
    "colab": {
      "name": "add_with_unit_tests.ipynb",
      "version": "0.3.2",
      "provenance": [],
      "collapsed_sections": []
    },
    "kernelspec": {
      "name": "python3",
      "display_name": "Python 3"
    }
  },
  "cells": [
    {
      "metadata": {
        "id": "DED6ggtHH9DO",
        "colab_type": "text"
      },
      "cell_type": "markdown",
      "source": [
        "Create a function called add that accepts two numbers as parameters and returns the sum of the two numbers. "
      ]
    },
    {
      "metadata": {
        "id": "3QYHbXF-8NCB",
        "colab_type": "code",
        "colab": {}
      },
      "cell_type": "code",
      "source": [
        "def add(a,b): \n",
        "  return a + b"
      ],
      "execution_count": 0,
      "outputs": []
    },
    {
      "metadata": {
        "id": "aOWucWkQLJCH",
        "colab_type": "text"
      },
      "cell_type": "markdown",
      "source": [
        "#Do not edit below this point.\n",
        "\n",
        "Below is the test block. When you run all cells, there should not be any errors shown below. If there are errors or you edit any cells below this point, your solution will not be accepted. \n"
      ]
    },
    {
      "metadata": {
        "id": "CMKDkmSSab7E",
        "colab_type": "code",
        "colab": {
          "base_uri": "https://localhost:8080/",
          "height": 118
        },
        "outputId": "f6596601-0590-4bbd-fee7-4a943d614a35"
      },
      "cell_type": "code",
      "source": [
        "# Unit testing for code_features() function.\n",
        "\n",
        "import unittest\n",
        "\n",
        "class TestCodeFeatures(unittest.TestCase):\n",
        "\n",
        "    def setUp(self):\n",
        "        pass\n",
        " \n",
        "    def test_add(self):\n",
        "        self.assertEqual(add(1,1), 2)\n",
        "        self.assertEqual(add(0,0), 0)\n",
        "        self.assertEqual(add(2,3), 5)\n",
        "        self.assertEqual(add(99,1), 100)\n",
        "\n",
        "         \n",
        "# Simple runner\n",
        "suite = unittest.defaultTestLoader.loadTestsFromTestCase(TestCodeFeatures)\n",
        "unittest.TextTestRunner().run(suite)  "
      ],
      "execution_count": 9,
      "outputs": [
        {
          "output_type": "stream",
          "text": [
            ".\n",
            "----------------------------------------------------------------------\n",
            "Ran 1 test in 0.002s\n",
            "\n",
            "OK\n"
          ],
          "name": "stderr"
        },
        {
          "output_type": "execute_result",
          "data": {
            "text/plain": [
              "<unittest.runner.TextTestResult run=1 errors=0 failures=0>"
            ]
          },
          "metadata": {
            "tags": []
          },
          "execution_count": 9
        }
      ]
    }
  ]
}